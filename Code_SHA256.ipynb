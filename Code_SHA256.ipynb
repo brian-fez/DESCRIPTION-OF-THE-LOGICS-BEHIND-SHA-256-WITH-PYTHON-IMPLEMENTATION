{
 "cells": [
  {
   "cell_type": "markdown",
   "id": "72ae973f",
   "metadata": {},
   "source": [
    "This implementation is intended to explain the stages in which the hash function goes through."
   ]
  },
  {
   "cell_type": "code",
   "execution_count": 1,
   "id": "d8608c65",
   "metadata": {},
   "outputs": [],
   "source": [
    "# create three different messages\n",
    "input_1 = \"message digest\"\n",
    "input_2 = \"ABCDEFGHIJKLMNOPQRSTUVWXYZabcdefghijklmnopqrstuvwxyz0123456789\"\n",
    "input_3 = \"12345678901234567890123456789012345678901234567890123456789012345678901234567890\"\n",
    "message_input = input_3"
   ]
  },
  {
   "cell_type": "markdown",
   "id": "3a0b2d33",
   "metadata": {},
   "source": [
    "Basic Operations"
   ]
  },
  {
   "cell_type": "code",
   "execution_count": 2,
   "id": "ce8f6fc8",
   "metadata": {},
   "outputs": [],
   "source": [
    "def XOR(i,j):\n",
    "    return list(a^b for a,b in zip(i,j))\n",
    "def AND(i,j):\n",
    "    return [a and b for a, b in zip(i,j)]\n",
    "def NOT(i): \n",
    "    return [int(not(a)) for a in i]\n",
    "def MAJ(i,j,k): \n",
    "    return max([i,j,], key=[i,j,k].count)\n",
    "def ROTR(x, n): \n",
    "    return x[-n:] + x[:-n]\n",
    "def SHR(x, n): \n",
    "    return n * [0] + x[:-n]\n",
    "def ADD(i, j):\n",
    "    length = len(i)\n",
    "    sums = list(range(length))\n",
    "    #initial input needs a carry over bit as 0\n",
    "    c = 0\n",
    "    for a in range(length-1,-1,-1):\n",
    "        #add the input bits with a double xor\n",
    "        sums[a] = (i[a]^j[a])^c\n",
    "        c = MAJ(i[a], j[a], c)\n",
    "    return sums"
   ]
  },
  {
   "cell_type": "markdown",
   "id": "e441a82d",
   "metadata": {},
   "source": [
    "Constant words calculation"
   ]
  },
  {
   "cell_type": "code",
   "execution_count": 3,
   "id": "15427a7a",
   "metadata": {},
   "outputs": [],
   "source": [
    "# function for generating first N prime numbers\n",
    "def generate_n_primes(N):\n",
    "    primes  = []\n",
    "    chkthis = 2\n",
    "    while len(primes) < N:\n",
    "        ptest    = [chkthis for i in primes if chkthis%i == 0]\n",
    "        primes  += [] if ptest else [chkthis]\n",
    "        chkthis += 1\n",
    "    return primes\n",
    "first_64_primes = generate_n_primes(64)\n",
    "\n",
    "\"\"\"function for generating constant words that represent the first 32 bits \n",
    "of the fractional parts of the cube roots of the first 64 prime numbers\"\"\"\n",
    "\n",
    "K=[]\n",
    "for x in first_64_primes:\n",
    "    cube_root = x ** (1./3.)\n",
    "    fractional = cube_root % 1\n",
    "    fractional = hex(int(fractional * (2**32)))\n",
    "    K.append(fractional)"
   ]
  },
  {
   "cell_type": "markdown",
   "id": "7d3b9389",
   "metadata": {},
   "source": [
    "Stages:\n",
    "1. Preprocessing\n",
    "2. Hash Computation"
   ]
  },
  {
   "cell_type": "markdown",
   "id": "9ee093e4",
   "metadata": {},
   "source": [
    "### PREPROCESSING"
   ]
  },
  {
   "cell_type": "markdown",
   "id": "6bc7bd90",
   "metadata": {},
   "source": [
    "Preprocessing consists of three steps:\n",
    "<ol>\n",
    "    <li>The first step: padding the message</li>\n",
    "    <li>The second step: parsing the paded message</li>\n",
    "    <li>Third step: computing the initial hash value</li>\n",
    "</ol>"
   ]
  },
  {
   "cell_type": "code",
   "execution_count": 4,
   "id": "94eeb874",
   "metadata": {},
   "outputs": [
    {
     "name": "stdout",
     "output_type": "stream",
     "text": [
      "Number of M-bit blocks:  16\n",
      "Number of bits per block:  32\n",
      "First 8 prime numbers:  [2, 3, 5, 7, 11, 13, 17, 19]\n",
      "Initial Hash Value:  ['0x6a09e667', '0xbb67ae85', '0x3c6ef372', '0xa54ff53a', '0x510e527f', '0x9b05688c', '0x1f83d9ab', '0x5be0cd19']\n"
     ]
    }
   ],
   "source": [
    "# before we start, we convert our message first into unicode values then into bits\n",
    "def message_to_bit(message):\n",
    "    #string characters to unicode values\n",
    "    unicode_val = [ord(c) for c in message]\n",
    "    #unicode values to 8-bit strings (removed binary indicator)\n",
    "    byte_string = []\n",
    "    for val in unicode_val:\n",
    "        byte_string.append(bin(val)[2:].zfill(8))# add bit \"0\" in front if bit length less than 8\n",
    "    #8-bit strings to list of bits as integers\n",
    "    bits = []\n",
    "    for byte in byte_string:\n",
    "        for bit in byte:\n",
    "            bits.append(int(bit))\n",
    "    return bits\n",
    "\n",
    "# append k zeros function (k = length - bits -1)\n",
    "def append_zeros(bits, length):\n",
    "    l = len(bits)\n",
    "    for i in range(l, length):\n",
    "        bits.append(0)\n",
    "    return bits                                                 # PADDING\n",
    "\n",
    "                        #The purpose is to create a padded message that is a multiple of 512.\n",
    "                                    #1. We start by converting our message to bits.\n",
    "                                    #2. Caculate its length and express it in bits.\n",
    "                                    #3. The result of the padded message will be: \n",
    "                #The value of the message M in bits + 1 + k zero bits + 64-bit value of the length of the message.\n",
    "\n",
    "def padded_message(message):\n",
    "    # convert message into bits\n",
    "    bits = message_to_bit(message)\n",
    "    #calculate the message length as a 64-bit block \n",
    "    message_len = [int(b) for b in bin(len(bits))[2:].zfill(64)]\n",
    "    if len(bits) < 448:\n",
    "        #append single 1\n",
    "        bits.append(1)\n",
    "        #append k zeros until it is congruent with 448mod512 bits\n",
    "        bits = append_zeros(bits, 448)\n",
    "        #add the 64 bits representing the length of the message\n",
    "        bits = bits + message_len\n",
    "        #return the block\n",
    "        return [bits]\n",
    "    elif 448 <= len(bits) <= 512:\n",
    "        bits.append(1)\n",
    "        #move to next message block\n",
    "        bits = append_zeros(bits, 1024)\n",
    "        #replace the last 64 bits of the multiple of 512 with the original message length\n",
    "        bits[-64:] = message_len\n",
    "        #return it in 512 bit chunks\n",
    "        return parser(bits, 512)\n",
    "    else:\n",
    "        bits.append(1)\n",
    "        # loop until multiple of 512\n",
    "        while len(bits) % 512 != 0:\n",
    "            bits.append(0)\n",
    "        bits[-64:] = message_len\n",
    "    return parser(bits, 512)\n",
    "\n",
    "\"\"\"            If the message is shorter than 448 bits, append the 1 bit , add k 0 (until it reaches 448 bits) \n",
    "                                            and then append the length expressed in bits. \n",
    "             If message's length is between 448 and 512 bits, append the 1 bit then add k 0 (until it reaches 1024 bits),\n",
    "                                then replace the last 64 bits with the length of the message.\n",
    "          If the message is longer than 512 bits, append the 1 bit, then append 0 until we reach the nearest multiple of 512, \n",
    "                                then replace the last 64 bits with the length of the message\n",
    "\"\"\"\n",
    "\n",
    "\n",
    "                                                    # PARSING\n",
    "\n",
    "                    #While parsing we express our 512 bit padded message into 16 blocks with 32-bit each\n",
    "# define the parser function\n",
    "def parser(bits, block_length=8):\n",
    "    parsed = []\n",
    "    for i in range(0, len(bits), block_length):\n",
    "        parsed.append(bits[i:i+block_length])\n",
    "    return parsed\n",
    "# parse the message in 32-bit blocks\n",
    "for block in padded_message(message_input):\n",
    "    w = parser(block, 32)\n",
    "    \n",
    "print(\"Number of M-bit blocks: \",len(w))\n",
    "print(\"Number of bits per block: \",len(w[0]))\n",
    "\n",
    "\n",
    "\n",
    "                                        # SETTING THE INITIAL HASH VALUE\n",
    "\n",
    "                    #The first initial hash values are obtained by taking the first thirty-two bits \n",
    "                    #of the fractional parts of the square roots of the first eight prime numbers.\n",
    "\n",
    "initial_hash_list=[]\n",
    "# generate first 8 prime numbers\n",
    "first_8_primes = generate_n_primes(8)\n",
    "print(\"First 8 prime numbers: \", first_8_primes)\n",
    "# calculate the fractional parts of the square roots of the first eight prime numbers\n",
    "for i in first_8_primes:\n",
    "    square_root = i ** (1./2.)\n",
    "    fractional = square_root % 1\n",
    "    fractional = hex(int(fractional * (2**32)))\n",
    "    initial_hash_list.append(fractional)\n",
    "print(\"Initial Hash Value: \", initial_hash_list)"
   ]
  },
  {
   "cell_type": "markdown",
   "id": "48be642b",
   "metadata": {},
   "source": [
    "### HASH COMPUTATION"
   ]
  },
  {
   "cell_type": "markdown",
   "id": "d08ea145",
   "metadata": {},
   "source": [
    "Hash Computation consists of four steps:\n",
    "<ol>\n",
    "    <li>The first step: preparing the message schedule</li>\n",
    "    <li>The second step: initializing the eight working variables</li>\n",
    "    <li>The third step: performing 64 iterations of the compression function</li>\n",
    "    <li>The fourth step: calculating the intermediate hash value</li>\n",
    "</ol>"
   ]
  },
  {
   "cell_type": "markdown",
   "id": "2ef5f6a2",
   "metadata": {},
   "source": [
    "## Hash computation"
   ]
  },
  {
   "cell_type": "code",
   "execution_count": 5,
   "id": "f19221eb",
   "metadata": {},
   "outputs": [
    {
     "name": "stdout",
     "output_type": "stream",
     "text": [
      "The hash value of the message  12345678901234567890123456789012345678901234567890123456789012345678901234567890  produced from our algorithm is:  f371bc4a311f2b009eef952dd83ca80e2b60026c8e935592d0f9c308453c813e\n"
     ]
    }
   ],
   "source": [
    "\"\"\"Before we start with the hash computation stage we first initiliaze the constants and initial hash value \n",
    "and convert them in bits\"\"\"\n",
    "# insert zeros at the beginning\n",
    "def zeros_insert(bits,length):\n",
    "    l = len(bits)\n",
    "    while l < length:\n",
    "        bits.insert(0, 0)\n",
    "        l = len(bits)\n",
    "    return bits \n",
    "\n",
    "def init(values):\n",
    "    #convert from hex to python binary string (with cut bin indicator ('0b'))\n",
    "    binaries = [bin(int(v, 16))[2:] for v in values]\n",
    "    #convert from python string representation to a list of 32 bit lists\n",
    "    words = []\n",
    "    for binary in binaries:\n",
    "        word = []\n",
    "        for b in binary:\n",
    "            word.append(int(b))\n",
    "        words.append(zeros_insert(word, 32))\n",
    "    return words\n",
    "\n",
    "h0, h1, h2, h3, h4, h5, h6, h7 = init(initial_hash_list)\n",
    "k = init(K)\n",
    "\n",
    "\n",
    "\n",
    "                                        #PREPARE THE MESSAGE SCHEDULE\n",
    "\n",
    "                        #we start by adding to our initial 16 parsed blocks 48 blocks\n",
    "for block in padded_message(message_input):\n",
    "    w = parser(block, 32)\n",
    "    for t in range(48):\n",
    "        w.append(32 * [0])\n",
    "    for t in range(16, 64):\n",
    "        s0 = XOR(XOR(ROTR(w[t-15], 7), ROTR(w[t-15], 18)), SHR(w[t-15], 3) ) \n",
    "        s1 = XOR(XOR(ROTR(w[t-2], 17), ROTR(w[t-2], 19)), SHR(w[t-2], 10))\n",
    "        w[t] = ADD(ADD(ADD(w[t-16], s0), w[t-7]), s1)\n",
    " \n",
    "\n",
    "\n",
    "                                        #INITIALIZE THE EIGHT WORKING VARIABLES\n",
    "        \n",
    "                #we assign the working variables with the (i-1)st hash value from the initial hash values list\n",
    "    a = h0\n",
    "    b = h1\n",
    "    c = h2\n",
    "    d = h3\n",
    "    e = h4\n",
    "    f = h5\n",
    "    g = h6\n",
    "    h = h7\n",
    "    \n",
    "    \n",
    "    \n",
    "                                        #COMPRESSION FUNCTION MAIN LOOP\n",
    "\n",
    "            #Perform 64 iterations of the compression function that is going to update the variables (a, b,…, h), \n",
    "    #with the help of two temporary words created using choose Ch and majority Maj functions, the constant words Kt{256}, \n",
    "                        #the message schedule Wt, and the eight working variables themselves\n",
    "    for j in range(64):\n",
    "        S1 = XOR(XOR(ROTR(e, 6), ROTR(e, 11)), ROTR(e, 25) )\n",
    "        ch = XOR(AND(e, f), AND(NOT(e), g))\n",
    "        temp1 = ADD(ADD(ADD(ADD(h, S1), ch), k[j]), w[j])\n",
    "        S0 = XOR(XOR(ROTR(a, 2), ROTR(a, 13)), ROTR(a, 22))\n",
    "        m = XOR(XOR(AND(a, b), AND(a, c)), AND(b, c))\n",
    "        temp2 = ADD(S0, m)\n",
    "        h = g\n",
    "        g = f\n",
    "        f = e\n",
    "        e = ADD(d, temp1)\n",
    "        d = c\n",
    "        c = b\n",
    "        b = a\n",
    "        a = ADD(temp1, temp2)\n",
    "        \n",
    "        \n",
    "        \n",
    "                                    #CALCULATE THE INTERMEDIATE HASH VALUE\n",
    "            \n",
    "                            #Add the compressed chunk to the current hash value\n",
    "    h0 = ADD(h0, a)\n",
    "    h1 = ADD(h1, b)\n",
    "    h2 = ADD(h2, c)\n",
    "    h3 = ADD(h3, d)\n",
    "    h4 = ADD(h4, e)\n",
    "    h5 = ADD(h5, f)\n",
    "    h6 = ADD(h6, g)\n",
    "    h7 = ADD(h7, h)\n",
    "    \n",
    "    \n",
    "\n",
    "                                    #PRODUCE THE FINAL HASH VALUE (big-endian)\n",
    "        \n",
    "                    #256-bit message digest of the message, M, is the union of all hashes\n",
    "\n",
    "# function to convert the list of 32 bits into a hexadecimal value\n",
    "def bit_to_hex(value):\n",
    "    value = ''.join([str(x) for x in value])\n",
    "    binaries = []\n",
    "    for d in range(0, len(value), 4):\n",
    "        binaries.append('0b' + value[d:d+4])\n",
    "    hexes = ''\n",
    "    for b in binaries:\n",
    "        hexes += hex(int(b ,2))[2:]\n",
    "    return hexes\n",
    "\n",
    "digest_bit = ''\n",
    "digest = ''\n",
    "for hash_value in [h0, h1, h2, h3, h4, h5, h6, h7]:\n",
    "    digest_bit += ''.join([str(x) for x in hash_value])\n",
    "    digest += bit_to_hex(hash_value)\n",
    "print(\"The hash value of the message \", message_input, \" produced from our algorithm is: \", digest)"
   ]
  },
  {
   "cell_type": "markdown",
   "id": "eeb37f6b",
   "metadata": {},
   "source": [
    "### Message results for each step"
   ]
  },
  {
   "cell_type": "code",
   "execution_count": 6,
   "id": "7073b89b",
   "metadata": {
    "scrolled": false
   },
   "outputs": [
    {
     "name": "stdout",
     "output_type": "stream",
     "text": [
      "1) Message in bits:  0011000100110010001100110011010000110101001101100011011100111000001110010011000000110001001100100011001100110100001101010011011000110111001110000011100100110000001100010011001000110011001101000011010100110110001101110011100000111001001100000011000100110010001100110011010000110101001101100011011100111000001110010011000000110001001100100011001100110100001101010011011000110111001110000011100100110000001100010011001000110011001101000011010100110110001101110011100000111001001100000011000100110010001100110011010000110101001101100011011100111000001110010011000000110001001100100011001100110100001101010011011000110111001110000011100100110000\n",
      "\n",
      "2) Padded message:  11110000111100000111011110010000\n",
      "\n",
      "3) Digest in bits:  1111001101110001101111000100101000110001000111110010101100000000100111101110111110010101001011011101100000111100101010000000111000101011011000000000001001101100100011101001001101010101100100101101000011111001110000110000100001000101001111001000000100111110\n",
      "\n",
      "4) The hash value of the message:  f371bc4a311f2b009eef952dd83ca80e2b60026c8e935592d0f9c308453c813e\n"
     ]
    }
   ],
   "source": [
    "print(\"1) Message in bits: \", ''.join([str(x) for x in message_to_bit(message_input)]))\n",
    "\n",
    "pd_list=[j for i in padded_message(message_input) for j in i]\n",
    "print(\"\\n2) Padded message: \", ''.join([str(x) for x in a]))\n",
    "\n",
    "print(\"\\n3) Digest in bits: \", digest_bit)\n",
    "\n",
    "print(\"\\n4) The hash value of the message: \", digest)"
   ]
  },
  {
   "cell_type": "markdown",
   "id": "99d2d3ad",
   "metadata": {},
   "source": [
    "## Test"
   ]
  },
  {
   "cell_type": "code",
   "execution_count": 7,
   "id": "4eed2c4c",
   "metadata": {},
   "outputs": [
    {
     "name": "stdout",
     "output_type": "stream",
     "text": [
      "The hash value of the message  12345678901234567890123456789012345678901234567890123456789012345678901234567890 produced by the hashlib algorithm is:  f371bc4a311f2b009eef952dd83ca80e2b60026c8e935592d0f9c308453c813e\n"
     ]
    }
   ],
   "source": [
    "import hashlib\n",
    "encoded_my_name=message_input.encode()\n",
    "digest_hlib = hashlib.sha256(encoded_my_name).hexdigest()\n",
    "print(\"The hash value of the message \", message_input, \"produced by the hashlib algorithm is: \", digest_hlib)"
   ]
  },
  {
   "cell_type": "code",
   "execution_count": 8,
   "id": "1b5c5964",
   "metadata": {},
   "outputs": [],
   "source": [
    "# Code Reference\n",
    "#https://www.codespeedy.com/perform-xor-on-two-lists-in-python/\n",
    "#https://blog.boot.dev/cryptography/how-sha-2-works-step-by-step-sha-256/\n",
    "#https://stackoverflow.com/questions/16312730/comparing-two-lists-and-only-printing-the-differences-xoring-two-lists\n",
    "#https://stackoverflow.com/questions/1628949/to-find-first-n-prime-numbers-in-python"
   ]
  }
 ],
 "metadata": {
  "kernelspec": {
   "display_name": "Python 3 (ipykernel)",
   "language": "python",
   "name": "python3"
  },
  "language_info": {
   "codemirror_mode": {
    "name": "ipython",
    "version": 3
   },
   "file_extension": ".py",
   "mimetype": "text/x-python",
   "name": "python",
   "nbconvert_exporter": "python",
   "pygments_lexer": "ipython3",
   "version": "3.9.7"
  }
 },
 "nbformat": 4,
 "nbformat_minor": 5
}
